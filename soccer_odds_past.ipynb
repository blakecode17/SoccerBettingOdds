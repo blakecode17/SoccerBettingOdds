{
  "nbformat": 4,
  "nbformat_minor": 0,
  "metadata": {
    "colab": {
      "provenance": []
    },
    "kernelspec": {
      "name": "python3",
      "display_name": "Python 3"
    },
    "language_info": {
      "name": "python"
    }
  },
  "cells": [
    {
      "cell_type": "code",
      "execution_count": null,
      "metadata": {
        "id": "h4stjOgnDC1l"
      },
      "outputs": [],
      "source": [
        "import pandas as pd\n",
        "import numpy as np\n",
        "from datetime import datetime\n",
        "import matplotlib.pyplot as plt\n",
        "from sklearn.linear_model import LinearRegression\n",
        "from statsmodels.tsa.arima.model import ARIMA\n",
        "from statsmodels.tsa.api import ExponentialSmoothing"
      ]
    },
    {
      "cell_type": "markdown",
      "source": [
        "Load the data and modify it in order for only the appropriate data to be present and used"
      ],
      "metadata": {
        "id": "547-_yBrGk0d"
      }
    },
    {
      "cell_type": "code",
      "source": [
        "data = pd.read_csv('/content/results.csv', encoding='latin1')\n",
        "data.head()"
      ],
      "metadata": {
        "id": "uNNNzxdsJCsB"
      },
      "execution_count": null,
      "outputs": []
    },
    {
      "cell_type": "code",
      "source": [
        "req_columns = ['Season', 'DateTime', 'HomeTeam', 'AwayTeam', 'FTR']\n",
        "\n",
        "data = data[req_columns]\n",
        "data['DateTime'] = pd.to_datetime(data['DateTime']).dt.date  # Gets rid of the Time as it is just 00:00:00 for every game\n",
        "data.head()"
      ],
      "metadata": {
        "id": "sJPh_GpgJEtb"
      },
      "execution_count": null,
      "outputs": []
    },
    {
      "cell_type": "markdown",
      "source": [
        "Plot the best team and the worst team of a premier league season in order to find the slope.\n",
        "\n",
        "*   A positive slope tells you that a team does better with more time between games\n",
        "*   A negative slope tells you that a team does worse with more time between games\n",
        "\n",
        "\n"
      ],
      "metadata": {
        "id": "ZsMAFmApJN7g"
      }
    },
    {
      "cell_type": "code",
      "source": [
        "selected_season = data[data['Season'] == '2021-22'] # Most recent season available in csv file\n",
        "selected_season.head()"
      ],
      "metadata": {
        "id": "Pi4LUUe5Nl-j"
      },
      "execution_count": null,
      "outputs": []
    },
    {
      "cell_type": "code",
      "source": [
        "team_1 = 'Man City' # Winners of the Premier League\n",
        "team_1_df = selected_season[(selected_season['HomeTeam'] == team_1) | (selected_season['AwayTeam'] == team_1)]\n",
        "\n",
        "print(f\"\\n{team_1} DataFrame:\")\n",
        "print(team_1_df)"
      ],
      "metadata": {
        "id": "y7FaUdeLN9UK"
      },
      "execution_count": null,
      "outputs": []
    },
    {
      "cell_type": "code",
      "source": [
        "team_1_df['DateTime'] = pd.to_datetime(team_1_df['DateTime'])\n",
        "team_1_df = team_1_df.sort_values(by='DateTime')\n",
        "team_1_df['TimeBetweenGames'] = team_1_df.groupby('Season')['DateTime'].diff().dt.days\n",
        "team_1_df = team_1_df.dropna()"
      ],
      "metadata": {
        "id": "bki3YvkTOBON"
      },
      "execution_count": null,
      "outputs": []
    },
    {
      "cell_type": "code",
      "source": [
        "# Exponential Smoothing\n",
        "seasonal_periods = 1\n",
        "trend_model = ExponentialSmoothing(team_1_df['TimeBetweenGames'], seasonal_periods=seasonal_periods, trend='add', damped=True)\n",
        "trend_fit_model = trend_model.fit()\n",
        "trend_forecast = trend_fit_model.fittedvalues"
      ],
      "metadata": {
        "id": "82S5M8AwOGAB"
      },
      "execution_count": null,
      "outputs": []
    },
    {
      "cell_type": "code",
      "source": [
        "# Linear Regression\n",
        "X = trend_forecast.values.reshape(-1, 1)\n",
        "y = team_1_df['FTR'].map({'H': 1, 'A': -1, 'D': 0}).values\n",
        "model = LinearRegression()\n",
        "model.fit(X, y)"
      ],
      "metadata": {
        "id": "MA8IZn83O0sd"
      },
      "execution_count": null,
      "outputs": []
    },
    {
      "cell_type": "code",
      "source": [
        "forecast_periods = 9\n",
        "future_trend_forecast = trend_fit_model.forecast(steps=forecast_periods)\n",
        "future_X = future_trend_forecast.values.reshape(-1, 1)\n",
        "forecast = model.predict(future_X)"
      ],
      "metadata": {
        "id": "IcArzr_IO3xd"
      },
      "execution_count": null,
      "outputs": []
    },
    {
      "cell_type": "code",
      "source": [
        "average_time_between_games = np.mean(team_1_df['TimeBetweenGames'])"
      ],
      "metadata": {
        "id": "oyKO7IWfQeAI"
      },
      "execution_count": null,
      "outputs": []
    },
    {
      "cell_type": "code",
      "source": [
        "plt.figure(figsize=(10, 6))\n",
        "plt.plot(team_1_df['DateTime'], team_1_df['FTR'].map({'H': 1, 'A': -1, 'D': 0}), marker='o', linestyle='-', color='b')\n",
        "plt.plot(team_1_df['DateTime'], model.predict(X), color='red', linestyle='-', linewidth=2, label='Linear Regression')\n",
        "plt.xlabel('Date of the Game')\n",
        "plt.ylabel('Result (H: 1, A: -1, D: 0)')\n",
        "plt.title(f'Result vs. Date of the Game for {team_1}')\n",
        "plt.grid(True)\n",
        "plt.legend()\n",
        "plt.show()\n",
        "# Print the slope of the linear regression line and the average amount of time between games\n",
        "print(\"Slope of the Linear Regression Line:\", model.coef_[0])\n",
        "print(\"Average Time Between Games:\", average_time_between_games)\n",
        "# Forecasted Outcome based on time until next game\n",
        "forecast_outcome = model.predict(future_X)\n",
        "print(\"Forecasted Outcome based on time until next game (H: Home win, A: Away win, D: Draw):\")\n",
        "print(forecast_outcome)"
      ],
      "metadata": {
        "id": "eHTKzhvhPU5N"
      },
      "execution_count": null,
      "outputs": []
    },
    {
      "cell_type": "code",
      "source": [
        "team_2 = 'Norwich' # Bottom team in the Premier League\n",
        "team_2_df = selected_season[(selected_season['HomeTeam'] == team_2) | (selected_season['AwayTeam'] == team_2)]\n",
        "\n",
        "print(f\"\\n{team_2} DataFrame:\")\n",
        "print(team_2_df)"
      ],
      "metadata": {
        "id": "zqHgBzZ8PhUx",
        "collapsed": true
      },
      "execution_count": null,
      "outputs": []
    },
    {
      "cell_type": "code",
      "source": [
        "team_2_df['DateTime'] = pd.to_datetime(team_2_df['DateTime'])\n",
        "team_2_df = team_2_df.sort_values(by='DateTime')\n",
        "team_2_df['TimeBetweenGames'] = team_2_df.groupby('Season')['DateTime'].diff().dt.days\n",
        "team_2_df = team_2_df.dropna()"
      ],
      "metadata": {
        "id": "E51RJGWoPpA2",
        "colab": {
          "base_uri": "https://localhost:8080/"
        },
        "outputId": "51492a6b-5abd-4967-f5eb-61c0a4ecbc8f"
      },
      "execution_count": null,
      "outputs": [
        {
          "output_type": "stream",
          "name": "stderr",
          "text": [
            "<ipython-input-112-c721d1eb9416>:1: SettingWithCopyWarning: \n",
            "A value is trying to be set on a copy of a slice from a DataFrame.\n",
            "Try using .loc[row_indexer,col_indexer] = value instead\n",
            "\n",
            "See the caveats in the documentation: https://pandas.pydata.org/pandas-docs/stable/user_guide/indexing.html#returning-a-view-versus-a-copy\n",
            "  team_2_df['DateTime'] = pd.to_datetime(team_2_df['DateTime'])\n"
          ]
        }
      ]
    },
    {
      "cell_type": "code",
      "source": [
        "# Exponential Smoothing\n",
        "seasonal_periods = 1\n",
        "trend_model = ExponentialSmoothing(team_2_df['TimeBetweenGames'], seasonal_periods=seasonal_periods, trend='add', damped=True)\n",
        "trend_fit_model = trend_model.fit()\n",
        "trend_forecast = trend_fit_model.fittedvalues"
      ],
      "metadata": {
        "id": "BCe62lhMPraa",
        "colab": {
          "base_uri": "https://localhost:8080/"
        },
        "outputId": "dad4e701-f31e-4ba9-aefe-9d76b76ac0fc"
      },
      "execution_count": null,
      "outputs": [
        {
          "output_type": "stream",
          "name": "stderr",
          "text": [
            "<ipython-input-113-8393e7b1c97d>:3: FutureWarning: the 'damped' keyword is deprecated, use 'damped_trend' instead.\n",
            "  trend_model = ExponentialSmoothing(team_2_df['TimeBetweenGames'], seasonal_periods=seasonal_periods, trend='add', damped=True)\n",
            "/usr/local/lib/python3.10/dist-packages/statsmodels/tsa/base/tsa_model.py:473: ValueWarning: An unsupported index was provided and will be ignored when e.g. forecasting.\n",
            "  self._init_dates(dates, freq)\n"
          ]
        }
      ]
    },
    {
      "cell_type": "code",
      "source": [
        "# Linear Regression\n",
        "X = trend_forecast.values.reshape(-1, 1)\n",
        "y = team_2_df['FTR'].map({'H': 1, 'A': -1, 'D': 0}).values\n",
        "model = LinearRegression()\n",
        "model.fit(X, y)"
      ],
      "metadata": {
        "colab": {
          "base_uri": "https://localhost:8080/",
          "height": 74
        },
        "id": "exL2iUzvPuFN",
        "outputId": "bc2555ed-d36c-4c61-bfea-86a0ae2d27f1"
      },
      "execution_count": null,
      "outputs": [
        {
          "output_type": "execute_result",
          "data": {
            "text/plain": [
              "LinearRegression()"
            ],
            "text/html": [
              "<style>#sk-container-id-10 {color: black;background-color: white;}#sk-container-id-10 pre{padding: 0;}#sk-container-id-10 div.sk-toggleable {background-color: white;}#sk-container-id-10 label.sk-toggleable__label {cursor: pointer;display: block;width: 100%;margin-bottom: 0;padding: 0.3em;box-sizing: border-box;text-align: center;}#sk-container-id-10 label.sk-toggleable__label-arrow:before {content: \"▸\";float: left;margin-right: 0.25em;color: #696969;}#sk-container-id-10 label.sk-toggleable__label-arrow:hover:before {color: black;}#sk-container-id-10 div.sk-estimator:hover label.sk-toggleable__label-arrow:before {color: black;}#sk-container-id-10 div.sk-toggleable__content {max-height: 0;max-width: 0;overflow: hidden;text-align: left;background-color: #f0f8ff;}#sk-container-id-10 div.sk-toggleable__content pre {margin: 0.2em;color: black;border-radius: 0.25em;background-color: #f0f8ff;}#sk-container-id-10 input.sk-toggleable__control:checked~div.sk-toggleable__content {max-height: 200px;max-width: 100%;overflow: auto;}#sk-container-id-10 input.sk-toggleable__control:checked~label.sk-toggleable__label-arrow:before {content: \"▾\";}#sk-container-id-10 div.sk-estimator input.sk-toggleable__control:checked~label.sk-toggleable__label {background-color: #d4ebff;}#sk-container-id-10 div.sk-label input.sk-toggleable__control:checked~label.sk-toggleable__label {background-color: #d4ebff;}#sk-container-id-10 input.sk-hidden--visually {border: 0;clip: rect(1px 1px 1px 1px);clip: rect(1px, 1px, 1px, 1px);height: 1px;margin: -1px;overflow: hidden;padding: 0;position: absolute;width: 1px;}#sk-container-id-10 div.sk-estimator {font-family: monospace;background-color: #f0f8ff;border: 1px dotted black;border-radius: 0.25em;box-sizing: border-box;margin-bottom: 0.5em;}#sk-container-id-10 div.sk-estimator:hover {background-color: #d4ebff;}#sk-container-id-10 div.sk-parallel-item::after {content: \"\";width: 100%;border-bottom: 1px solid gray;flex-grow: 1;}#sk-container-id-10 div.sk-label:hover label.sk-toggleable__label {background-color: #d4ebff;}#sk-container-id-10 div.sk-serial::before {content: \"\";position: absolute;border-left: 1px solid gray;box-sizing: border-box;top: 0;bottom: 0;left: 50%;z-index: 0;}#sk-container-id-10 div.sk-serial {display: flex;flex-direction: column;align-items: center;background-color: white;padding-right: 0.2em;padding-left: 0.2em;position: relative;}#sk-container-id-10 div.sk-item {position: relative;z-index: 1;}#sk-container-id-10 div.sk-parallel {display: flex;align-items: stretch;justify-content: center;background-color: white;position: relative;}#sk-container-id-10 div.sk-item::before, #sk-container-id-10 div.sk-parallel-item::before {content: \"\";position: absolute;border-left: 1px solid gray;box-sizing: border-box;top: 0;bottom: 0;left: 50%;z-index: -1;}#sk-container-id-10 div.sk-parallel-item {display: flex;flex-direction: column;z-index: 1;position: relative;background-color: white;}#sk-container-id-10 div.sk-parallel-item:first-child::after {align-self: flex-end;width: 50%;}#sk-container-id-10 div.sk-parallel-item:last-child::after {align-self: flex-start;width: 50%;}#sk-container-id-10 div.sk-parallel-item:only-child::after {width: 0;}#sk-container-id-10 div.sk-dashed-wrapped {border: 1px dashed gray;margin: 0 0.4em 0.5em 0.4em;box-sizing: border-box;padding-bottom: 0.4em;background-color: white;}#sk-container-id-10 div.sk-label label {font-family: monospace;font-weight: bold;display: inline-block;line-height: 1.2em;}#sk-container-id-10 div.sk-label-container {text-align: center;}#sk-container-id-10 div.sk-container {/* jupyter's `normalize.less` sets `[hidden] { display: none; }` but bootstrap.min.css set `[hidden] { display: none !important; }` so we also need the `!important` here to be able to override the default hidden behavior on the sphinx rendered scikit-learn.org. See: https://github.com/scikit-learn/scikit-learn/issues/21755 */display: inline-block !important;position: relative;}#sk-container-id-10 div.sk-text-repr-fallback {display: none;}</style><div id=\"sk-container-id-10\" class=\"sk-top-container\"><div class=\"sk-text-repr-fallback\"><pre>LinearRegression()</pre><b>In a Jupyter environment, please rerun this cell to show the HTML representation or trust the notebook. <br />On GitHub, the HTML representation is unable to render, please try loading this page with nbviewer.org.</b></div><div class=\"sk-container\" hidden><div class=\"sk-item\"><div class=\"sk-estimator sk-toggleable\"><input class=\"sk-toggleable__control sk-hidden--visually\" id=\"sk-estimator-id-10\" type=\"checkbox\" checked><label for=\"sk-estimator-id-10\" class=\"sk-toggleable__label sk-toggleable__label-arrow\">LinearRegression</label><div class=\"sk-toggleable__content\"><pre>LinearRegression()</pre></div></div></div></div></div>"
            ]
          },
          "metadata": {},
          "execution_count": 114
        }
      ]
    },
    {
      "cell_type": "code",
      "source": [
        "forecast_periods = 9\n",
        "future_trend_forecast = trend_fit_model.forecast(steps=forecast_periods)\n",
        "future_X = future_trend_forecast.values.reshape(-1, 1)\n",
        "forecast = model.predict(future_X)"
      ],
      "metadata": {
        "id": "-ht0PuZ5Pwhv",
        "colab": {
          "base_uri": "https://localhost:8080/"
        },
        "outputId": "ea79a95c-4f98-4df8-bfe9-608c348d7b57"
      },
      "execution_count": null,
      "outputs": [
        {
          "output_type": "stream",
          "name": "stderr",
          "text": [
            "/usr/local/lib/python3.10/dist-packages/statsmodels/tsa/base/tsa_model.py:836: ValueWarning: No supported index is available. Prediction results will be given with an integer index beginning at `start`.\n",
            "  return get_prediction_index(\n",
            "/usr/local/lib/python3.10/dist-packages/statsmodels/tsa/base/tsa_model.py:836: FutureWarning: No supported index is available. In the next version, calling this method in a model without a supported index will result in an exception.\n",
            "  return get_prediction_index(\n"
          ]
        }
      ]
    },
    {
      "cell_type": "code",
      "source": [
        "average_time_between_games = np.mean(team_2_df['TimeBetweenGames'])"
      ],
      "metadata": {
        "id": "xQhW9YccQJRi"
      },
      "execution_count": null,
      "outputs": []
    },
    {
      "cell_type": "code",
      "source": [
        "plt.figure(figsize=(10, 6))\n",
        "plt.plot(team_2_df['DateTime'], team_2_df['FTR'].map({'H': 1, 'A': -1, 'D': 0}), marker='o', linestyle='-', color='b')\n",
        "plt.plot(team_2_df['DateTime'], model.predict(X), color='red', linestyle='-', linewidth=2, label='Linear Regression')\n",
        "plt.xlabel('Date of the Game')\n",
        "plt.ylabel('Result (H: 1, A: -1, D: 0)')\n",
        "plt.title(f'Result vs. Date of the Game for {team_2}')\n",
        "plt.grid(True)\n",
        "plt.legend()\n",
        "plt.show()\n",
        "# Print the slope of the linear regression line and the average amount of time between games\n",
        "print(\"Slope of the Linear Regression Line:\", model.coef_[0])\n",
        "print(\"Average Time Between Games:\", average_time_between_games)\n",
        "# Forecasted Outcome based on time until next game\n",
        "forecast_outcome = model.predict(future_X)\n",
        "print(\"Forecasted Outcome based on time until next game (H: Home win, A: Away win, D: Draw):\")\n",
        "print(forecast_outcome)"
      ],
      "metadata": {
        "id": "Ea0-IVAZP0zi"
      },
      "execution_count": null,
      "outputs": []
    },
    {
      "cell_type": "markdown",
      "source": [
        "Create a model that gets the input of the teams, and times between games for each teams. It will then return the probability that either team will win or draw."
      ],
      "metadata": {
        "id": "t3qT03RaJOk4"
      }
    },
    {
      "cell_type": "code",
      "source": [
        "from sklearn.linear_model import LogisticRegression\n",
        "from sklearn.preprocessing import LabelEncoder"
      ],
      "metadata": {
        "id": "ouPpfxr-X323"
      },
      "execution_count": null,
      "outputs": []
    },
    {
      "cell_type": "code",
      "source": [
        "def time_between_games(data):\n",
        "    data['DateTime'] = pd.to_datetime(data['DateTime'])\n",
        "    data = data.sort_values(by='DateTime')\n",
        "    data['TimeBetweenGames'] = data.groupby('Season')['DateTime'].diff().dt.days\n",
        "    data = data.dropna()\n",
        "    return data"
      ],
      "metadata": {
        "id": "TE1ukxu3Jl4s"
      },
      "execution_count": null,
      "outputs": []
    },
    {
      "cell_type": "code",
      "source": [
        "def train_model(data):\n",
        "    label_encoder = LabelEncoder()\n",
        "    data['FTR_encoded'] = label_encoder.fit_transform(data['FTR'])\n",
        "    X = data['TimeBetweenGames'].values[:-1].reshape(-1, 1)\n",
        "    y = data['FTR_encoded'].shift(-1).dropna().values\n",
        "    model = LogisticRegression()\n",
        "    model.fit(X, y)\n",
        "\n",
        "    return model, label_encoder"
      ],
      "metadata": {
        "id": "lpGO7DD4TwFl"
      },
      "execution_count": null,
      "outputs": []
    },
    {
      "cell_type": "code",
      "source": [
        "def predict_result(model, label_encoder, team1, team2, team1_tbg, team2_tbg):\n",
        "    team1_prob = model.predict_proba([[team1_tbg]])[0]\n",
        "    team2_prob = model.predict_proba([[team2_tbg]])[0]\n",
        "    result_probability = {\n",
        "        f\"{team1} wins\": team1_prob[2] * team2_prob[0],  # Probability of team1 winning and team2 losing\n",
        "        f\"{team2} wins\": team1_prob[0] * team2_prob[2],  # Probability of team2 winning and team1 losing\n",
        "        \"Draw\": team1_prob[1] * team2_prob[1]  # Probability of draw\n",
        "    }\n",
        "    return result_probability"
      ],
      "metadata": {
        "id": "rvuY7olNYI6c"
      },
      "execution_count": null,
      "outputs": []
    },
    {
      "cell_type": "code",
      "source": [
        "season = input(\"Enter the Premier League season: \")\n",
        "team1 = input(\"Enter the name of team 1: \")\n",
        "team2 = input(\"Enter the name of team 2: \")\n",
        "team1_tbg = input(\"Enter time between games for team 1: \")\n",
        "team2_tbg = input(\"Enter time between games for team 2: \")"
      ],
      "metadata": {
        "colab": {
          "base_uri": "https://localhost:8080/"
        },
        "id": "L4fJaZQ9YzjF",
        "outputId": "10c902c8-bf75-40bd-eb9b-872267182104"
      },
      "execution_count": null,
      "outputs": [
        {
          "name": "stdout",
          "output_type": "stream",
          "text": [
            "Enter the name of team 1: Man City\n",
            "Enter the name of team 2: Norwich\n",
            "Enter time between games for team 1: 6\n",
            "Enter time between games for team 2: 9\n"
          ]
        }
      ]
    },
    {
      "cell_type": "code",
      "source": [
        "team1_tbg = int(team1_tbg)\n",
        "team2_tbg = int(team2_tbg)"
      ],
      "metadata": {
        "id": "Pu6hRElFeCIO"
      },
      "execution_count": null,
      "outputs": []
    },
    {
      "cell_type": "code",
      "source": [
        "teams_data = pd.concat([data[data['Season'] == season_year] for season_year in [season]])\n",
        "teams_data = time_between_games(teams_data)\n",
        "model, label_encoder = train_model(teams_data)"
      ],
      "metadata": {
        "id": "GLj9QFxuZZm1"
      },
      "execution_count": null,
      "outputs": []
    },
    {
      "cell_type": "code",
      "source": [
        "match_result = predict_result(model, label_encoder, team1, team2, team1_tbg, team2_tbg)\n",
        "print(\"Predicted Match Result Probabilities:\")\n",
        "for outcome, probability in match_result.items():\n",
        "    print(f\"{outcome}: {probability:.2f}\")"
      ],
      "metadata": {
        "id": "ge3fFEjbZywy"
      },
      "execution_count": null,
      "outputs": []
    },
    {
      "cell_type": "markdown",
      "source": [
        "Convert probabilities into betting odds"
      ],
      "metadata": {
        "id": "kvLsKnYGX86z"
      }
    },
    {
      "cell_type": "code",
      "source": [
        "def odds_calculator(team1_prob, team2_prob, draw_prob):\n",
        "  if team1_prob > team2_prob:\n",
        "    if team1_prob > draw_prob:\n",
        "      team1_odds = round(-100 / (team1_prob / (1 - team1_prob)))\n",
        "      team2_odds = round(100 / (team2_prob / (1 - team2_prob)))\n",
        "      draw_odds = round(100 / (draw_prob / (1 - draw_prob)))\n",
        "      return team1_odds, team2_odds, draw_odds\n",
        "  if team2_prob > team1_prob:\n",
        "    if team2_prob > draw_prob:\n",
        "      team1_odds = round(100 / (team1_prob / (1 - team1_prob)))\n",
        "      team2_odds = round(-100 / (team2_prob / (1 - team2_prob)))\n",
        "      draw_odds = round(100 / (draw_prob / (1 - draw_prob)))\n",
        "      return team1_odds, team2_odds, draw_odds\n",
        "  if team1_prob == team2_prob:\n",
        "    team1_odds = round(100 / (team1_prob / (1 - team1_prob)))\n",
        "    team2_odds = round(100 / (team2_prob / (1 - team2_prob)))\n",
        "    draw_odds = round(-100 / (draw_prob / (1 - draw_prob)))\n",
        "    return team1_odds, team2_odds, draw_odds"
      ],
      "metadata": {
        "id": "n8EG7nYqc1BH"
      },
      "execution_count": null,
      "outputs": []
    },
    {
      "cell_type": "code",
      "source": [
        "team1_prob = match_result[f\"{team1} wins\"]\n",
        "team2_prob = match_result[f\"{team2} wins\"]\n",
        "draw_prob = match_result[\"Draw\"]"
      ],
      "metadata": {
        "id": "vrlZNU5fjx3d"
      },
      "execution_count": null,
      "outputs": []
    },
    {
      "cell_type": "code",
      "source": [
        "team1_odds, team2_odds, draw_odds = odds_calculator(team1_prob, team2_prob, draw_prob)"
      ],
      "metadata": {
        "id": "UmxlsROxlFmi"
      },
      "execution_count": null,
      "outputs": []
    },
    {
      "cell_type": "code",
      "source": [
        "print(\"Predicted Match Odds\")\n",
        "print(f\"{team1}: {team1_odds:+}\")\n",
        "print(f\"{team2}: {team2_odds:+}\")\n",
        "print(f\"Draw: {draw_odds:+}\")"
      ],
      "metadata": {
        "id": "eEEdSEzwksVG"
      },
      "execution_count": null,
      "outputs": []
    }
  ]
}